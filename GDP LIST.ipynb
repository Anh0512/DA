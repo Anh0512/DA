{
 "cells": [
  {
   "cell_type": "code",
   "execution_count": 13,
   "metadata": {},
   "outputs": [
    {
     "name": "stdout",
     "output_type": "stream",
     "text": [
      "               GDP (millions of US$)\n",
      "Continent                           \n",
      "Asia                        24425891\n",
      "Europe                      19139380\n",
      "North America               18238447\n",
      "South America                4141217\n",
      "Africa                       1820811\n",
      "Oceania                      1662727\n"
     ]
    }
   ],
   "source": [
    "import pandas as pd\n",
    "import numpy as np\n",
    "df = pd.read_csv('D:\\jupyter\\GDPlist.csv')\n",
    "#df.info()\n",
    "df_country = df.groupby(['Continent']).sum().sort_values(by = 'GDP (millions of US$)',ascending= False)\n",
    "print(df_country)"
   ]
  }
 ],
 "metadata": {
  "kernelspec": {
   "display_name": "Python 3.10.4 64-bit",
   "language": "python",
   "name": "python3"
  },
  "language_info": {
   "codemirror_mode": {
    "name": "ipython",
    "version": 3
   },
   "file_extension": ".py",
   "mimetype": "text/x-python",
   "name": "python",
   "nbconvert_exporter": "python",
   "pygments_lexer": "ipython3",
   "version": "3.10.4"
  },
  "orig_nbformat": 4,
  "vscode": {
   "interpreter": {
    "hash": "5f40faffd79631ffd5f8e0cec479fe172256de161ffe1cc89138f9f9bb21be8b"
   }
  }
 },
 "nbformat": 4,
 "nbformat_minor": 2
}
