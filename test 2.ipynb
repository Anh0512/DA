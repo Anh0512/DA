{
 "cells": [
  {
   "cell_type": "code",
   "execution_count": 1,
   "metadata": {},
   "outputs": [
    {
     "name": "stdout",
     "output_type": "stream",
     "text": [
      "R2-score is 0.8955304226952604\n",
      "Mean_sqrd_error is== 734361363.6167877\n",
      "Root_mean_squared error of is== 27099.102634898958\n",
      "MAPE:  0.0949992522567902\n"
     ]
    }
   ],
   "source": [
    "# Load in our libraries\n",
    "import pandas as pd\n",
    "import numpy as np\n",
    "import matplotlib.pyplot as plt\n",
    "import seaborn as sns\n",
    "from sklearn.model_selection import train_test_split, cross_val_score\n",
    "from sklearn.dummy import DummyRegressor\n",
    "from sklearn.linear_model import LinearRegression\n",
    "from sklearn.metrics import mean_squared_error\n",
    "from sklearn.preprocessing import StandardScaler\n",
    "from sklearn.metrics import r2_score\n",
    "from sklearn.metrics import mean_absolute_percentage_error\n",
    "\n",
    "\n",
    "df = pd.read_csv(\"AmesHousing.csv\")\n",
    "#Since Regression needs numerical features,convert categorical columns into dummy variables\n",
    "df1= pd.get_dummies(df)\n",
    "\n",
    "# =============== TIỂN XỬ LÍ DỮ LIỆU ==========================\n",
    "\n",
    "#Look for columns with any NaN(missing) values\n",
    "df1.columns[df1.isna().any()].tolist()\n",
    "\n",
    "#Number of NaN values columnwise\n",
    "df1.isna().sum()\n",
    "\n",
    "#Define function to impute series with it's median\n",
    "def impute_median(series):\n",
    "    return series.fillna(series.median())\n",
    "df1['Lot Frontage']= df1['Lot Frontage'].transform(impute_median)\n",
    "df1['Mas Vnr Area']=df1['Mas Vnr Area'].transform(impute_median)\n",
    "df1['BsmtFin SF 1']=df1['BsmtFin SF 1'].transform(impute_median)\n",
    "df1['BsmtFin SF 2']=df1['BsmtFin SF 2'].transform(impute_median)\n",
    "df1['Bsmt Unf SF']=df1['Bsmt Unf SF'].transform(impute_median)\n",
    "df1['Total Bsmt SF']=df1['Total Bsmt SF'].transform(impute_median)\n",
    "df1['Bsmt Full Bath']=df1['Bsmt Full Bath'].transform(impute_median)\n",
    "df1['Bsmt Half Bath']=df1['Bsmt Half Bath'].transform(impute_median)\n",
    "df1['Garage Cars']=df1['Garage Cars'].transform(impute_median)\n",
    "df1['Garage Area']=df1['Garage Area'].transform(impute_median)\n",
    "#Check remaining columns with NaN values\n",
    "df1.columns[df1.isna().any()].tolist()\n",
    "\n",
    "#Drop this column\n",
    "df2=df1.drop('Garage Yr Blt',axis=1)\n",
    "\n",
    "#  ===== XỬ LÝ DỮ LIỆU ========================\n",
    "\n",
    "#Define target array y\n",
    "y= df2['SalePrice'].values\n",
    "#Create feature array X\n",
    "X= df2.drop('SalePrice',axis=1).values\n",
    "\n",
    "#Reshape y to have 1 column\n",
    "y=y.reshape(-1,1)\n",
    "y.shape\n",
    "\n",
    "#============= CHIA DỮ LIỆU ============\n",
    "#Split the arrays into training and testing data sets (70-30)\n",
    "X_train, X_test,y_train, y_test= train_test_split(X,y,test_size=0.3,random_state=42)\n",
    "#=============== HUẤN LUYỆN MÔ HÌNH ==================\n",
    "\n",
    "#Create a regressor object\n",
    "LR= LinearRegression()\n",
    "\n",
    "#Fit training set to the regressor\n",
    "LR.fit(X_train,y_train)\n",
    "\n",
    "# print(\"Mô hình hồi quy tuyến tính đã được huấn luyện, có các tham số:\")\n",
    "# print(\"Intercept =\", LR.intercept_)\n",
    "# print(\"Coefficients:\", LR.coef_)\n",
    "\n",
    "#Make predictions with the regressor\n",
    "y_pred = LR.predict(X_test)\n",
    "\n",
    "\n",
    "\n",
    "# Calculate R2-score\n",
    "score = r2_score(y_test,y_pred)\n",
    "print('R2-score is',score)\n",
    "print('Mean_sqrd_error is==',mean_squared_error(y_test,y_pred))\n",
    "print('Root_mean_squared error of is==',np.sqrt(mean_squared_error(y_test,y_pred)))\n",
    "print(\"MAPE: \",mean_absolute_percentage_error(y_test, y_pred))\n"
   ]
  },
  {
   "cell_type": "code",
   "execution_count": 16,
   "metadata": {},
   "outputs": [
    {
     "name": "stdout",
     "output_type": "stream",
     "text": [
      "MAPE:  0.11545441501345677\n",
      "R2 trên tập huấn luyện của model là:0.9986675025445318\n",
      "R2 trên tập kiểm tra của model là:0.9171007057095966\n",
      "Sai số dự báo trung bình: 1609.1344032258064\n"
     ]
    }
   ],
   "source": [
    "# Load in our libraries\n",
    "import pandas as pd\n",
    "import numpy as np\n",
    "import matplotlib.pyplot as plt\n",
    "import seaborn as sns\n",
    "from sklearn.model_selection import train_test_split, cross_val_score\n",
    "from sklearn.dummy import DummyRegressor\n",
    "from sklearn.linear_model import LinearRegression \n",
    "from sklearn.metrics import mean_squared_error\n",
    "from sklearn.preprocessing import StandardScaler\n",
    "import sklearn.metrics as metrics\n",
    "from sklearn.metrics import r2_score\n",
    "from sklearn.metrics import mean_absolute_percentage_error,mean_absolute_error\n",
    "from sklearn.tree import DecisionTreeRegressor\n",
    "df = pd.read_csv('Case_study_CarPrice_Assignment.csv')\n",
    "df['BranchName'] = df.apply(lambda x:str(x['CarName']).split(\" \")[0],axis=1).reset_index(drop=True)\n",
    "df['BranchName'] = df['BranchName'].astype('category').cat.codes\n",
    "# sns.heatmap(df.corr(),vmin=0,vmax=1,annot=True,cmap=plt.cm.Blues)\n",
    "# plt.show()\n",
    "df2 = df[['carwidth','carlength','curbweight','enginesize','citympg','horsepower','BranchName', 'price']]\n",
    "# print(df2.describe())\n",
    "# df2.info()\n",
    "\n",
    "X = df2.drop('price',axis=1)\n",
    "y = df2['price']\n",
    "\n",
    "X_train, X_test, y_train, y_test = train_test_split(X, y, test_size=0.3, random_state=42)\n",
    "regressor = DecisionTreeRegressor(random_state=0)\n",
    "regressor.fit(X_train, y_train)\n",
    "\n",
    "pred = regressor.predict(X_test)\n",
    "print(\"MAPE: \",mean_absolute_percentage_error(y_test, pred))\n",
    "r2_train = r2_score(y_train, regressor.predict(X_train))\n",
    "print(\"R2 trên tập huấn luyện của model là:\"  + str(r2_train))\n",
    "r2_test = r2_score(y_test, pred)\n",
    "print(\"R2 trên tập kiểm tra của model là:\"  + str(r2_test))\n",
    "print('Sai số dự báo trung bình:', metrics.mean_absolute_error(y_test, pred)) "
   ]
  }
 ],
 "metadata": {
  "kernelspec": {
   "display_name": "Python 3.7.1 ('base')",
   "language": "python",
   "name": "python3"
  },
  "language_info": {
   "codemirror_mode": {
    "name": "ipython",
    "version": 3
   },
   "file_extension": ".py",
   "mimetype": "text/x-python",
   "name": "python",
   "nbconvert_exporter": "python",
   "pygments_lexer": "ipython3",
   "version": "3.7.1"
  },
  "orig_nbformat": 4,
  "vscode": {
   "interpreter": {
    "hash": "e830c59da599f1996693fd066ec76c44ca94e938461f68cfd4485db148307566"
   }
  }
 },
 "nbformat": 4,
 "nbformat_minor": 2
}
