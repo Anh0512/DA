{
 "cells": [
  {
   "cell_type": "code",
   "execution_count": 9,
   "metadata": {},
   "outputs": [
    {
     "name": "stdout",
     "output_type": "stream",
     "text": [
      "<class 'pandas.core.frame.DataFrame'>\n",
      "RangeIndex: 7381 entries, 0 to 7380\n",
      "Data columns (total 8 columns):\n",
      " #   Column       Non-Null Count  Dtype  \n",
      "---  ------       --------------  -----  \n",
      " 0   Place        7381 non-null   object \n",
      " 1   ProductId    7381 non-null   int64  \n",
      " 2   ProductName  7381 non-null   object \n",
      " 3   UmId         7381 non-null   int64  \n",
      " 4   UmName       7381 non-null   object \n",
      " 5   Month        7381 non-null   int64  \n",
      " 6   Year         7381 non-null   int64  \n",
      " 7   Price        7381 non-null   float64\n",
      "dtypes: float64(1), int64(4), object(3)\n",
      "memory usage: 461.4+ KB\n",
      "None\n",
      "ProductName\n",
      "Milk (powder, infant formula) - Retail                    108.287696\n",
      "Fuel (gas) - Retail                                        83.976703\n",
      "Meat (mutton) - Retail                                     45.557209\n",
      "Cocoa (powder) - Retail                                    43.802339\n",
      "Coffee (instant) - Retail                                  43.295493\n",
      "Coffee - Retail                                            42.468075\n",
      "Meat (veal) - Retail                                       41.270904\n",
      "Wage (non-qualified labour, non-agricultural) - Retail     40.548182\n",
      "Oil (olive) - Retail                                       27.274547\n",
      "Tea - Retail                                               26.224393\n",
      "Cheese - Retail                                            25.522875\n",
      "Fish (fresh) - Retail                                      22.698257\n",
      "Groundnuts (shelled) - Retail                              21.832122\n",
      "Garlic - Retail                                            16.610370\n",
      "Chickpeas - Retail                                         10.347860\n",
      "Meat (chicken) - Retail                                     9.683471\n",
      "Beans (white) - Retail                                      9.572830\n",
      "Oil (sunflower) - Retail                                    8.755174\n",
      "Fuel (petrol-gasoline) - Retail                             8.592519\n",
      "Bananas - Retail                                            8.224784\n",
      "Tomatoes (paste) - Retail                                   8.085128\n",
      "Rice - Retail                                               7.950325\n",
      "Lentils - Retail                                            6.651817\n",
      "Tea (herbal) - Retail                                       5.434838\n",
      "Water - Retail                                              5.384253\n",
      "Yogurt - Retail                                             5.364898\n",
      "Sugar - Retail                                              4.482942\n",
      "Bread (common) - Retail                                     4.463293\n",
      "Tea (green) - Retail                                        4.137000\n",
      "Apples - Retail                                             3.885039\n",
      "Eggplants - Retail                                          3.882645\n",
      "Zucchini - Retail                                           3.837423\n",
      "Milk (pasteurized) - Retail                                 3.679687\n",
      "Bulgur - Retail                                             3.516712\n",
      "Pasta - Retail                                              3.496637\n",
      "Cucumbers - Retail                                          3.411326\n",
      "Tomatoes - Retail                                           3.393658\n",
      "Cauliflower - Retail                                        3.274868\n",
      "Wheat flour - Retail                                        3.253174\n",
      "Spinach - Retail                                            3.240587\n",
      "Oranges - Retail                                            3.124280\n",
      "Peas (green, dry) - Retail                                  2.900029\n",
      "Transport (public) - Retail                                 2.468031\n",
      "Bread (pita) - Retail                                       2.404545\n",
      "Apples (red) - Retail                                       2.392193\n",
      "Potatoes - Retail                                           2.297231\n",
      "Cucumbers (greenhouse) - Retail                             2.206807\n",
      "Onions - Retail                                             2.141539\n",
      "Salt - Retail                                               2.048213\n",
      "Cabbage - Retail                                            1.723395\n",
      "Electricity - Retail                                        0.513580\n",
      "Eggs - Retail                                               0.505925\n",
      "Name: Price, dtype: float64\n",
      "0                 Rice - Retail\n",
      "1                 Rice - Retail\n",
      "2                 Rice - Retail\n",
      "3                 Rice - Retail\n",
      "4                 Rice - Retail\n",
      "                 ...           \n",
      "7376    Cocoa (powder) - Retail\n",
      "7377    Cocoa (powder) - Retail\n",
      "7378    Cocoa (powder) - Retail\n",
      "7379    Cocoa (powder) - Retail\n",
      "7380    Cocoa (powder) - Retail\n",
      "Name: ProductName, Length: 7381, dtype: object\n"
     ]
    }
   ],
   "source": [
    "import pandas as pd\n",
    "import numpy as np\n",
    "df = pd.read_csv('D:\\jupyter\\FoodPrice_in_Turkey.csv')\n",
    "print(df.info())\n",
    "df_PN = df.groupby('ProductName')['Price'].mean().sort_values(ascending = False)\n",
    "print(df_PN)\n",
    "print(df['ProductName'])"
   ]
  }
 ],
 "metadata": {
  "kernelspec": {
   "display_name": "Python 3.10.4 64-bit",
   "language": "python",
   "name": "python3"
  },
  "language_info": {
   "codemirror_mode": {
    "name": "ipython",
    "version": 3
   },
   "file_extension": ".py",
   "mimetype": "text/x-python",
   "name": "python",
   "nbconvert_exporter": "python",
   "pygments_lexer": "ipython3",
   "version": "3.10.4"
  },
  "orig_nbformat": 4,
  "vscode": {
   "interpreter": {
    "hash": "5f40faffd79631ffd5f8e0cec479fe172256de161ffe1cc89138f9f9bb21be8b"
   }
  }
 },
 "nbformat": 4,
 "nbformat_minor": 2
}
